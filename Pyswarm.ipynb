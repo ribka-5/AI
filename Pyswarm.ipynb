{
  "nbformat": 4,
  "nbformat_minor": 0,
  "metadata": {
    "colab": {
      "provenance": [],
      "include_colab_link": true
    },
    "kernelspec": {
      "name": "python3",
      "display_name": "Python 3"
    },
    "language_info": {
      "name": "python"
    }
  },
  "cells": [
    {
      "cell_type": "markdown",
      "metadata": {
        "id": "view-in-github",
        "colab_type": "text"
      },
      "source": [
        "<a href=\"https://colab.research.google.com/github/ribka-5/AI/blob/main/Pyswarm.ipynb\" target=\"_parent\"><img src=\"https://colab.research.google.com/assets/colab-badge.svg\" alt=\"Open In Colab\"/></a>"
      ]
    },
    {
      "cell_type": "code",
      "metadata": {
        "colab": {
          "base_uri": "https://localhost:8080/"
        },
        "id": "KUj3sXxiMOWL",
        "outputId": "c5904f97-53fd-49c8-b32b-782b1425ec0d"
      },
      "source": [
        "! pip install pyswarms"
      ],
      "execution_count": null,
      "outputs": [
        {
          "output_type": "stream",
          "name": "stdout",
          "text": [
            "Collecting pyswarms\n",
            "  Downloading pyswarms-1.3.0-py2.py3-none-any.whl (104 kB)\n",
            "\u001b[?25l\r\u001b[K     |███▏                            | 10 kB 11.3 MB/s eta 0:00:01\r\u001b[K     |██████▎                         | 20 kB 15.2 MB/s eta 0:00:01\r\u001b[K     |█████████▍                      | 30 kB 19.3 MB/s eta 0:00:01\r\u001b[K     |████████████▋                   | 40 kB 21.9 MB/s eta 0:00:01\r\u001b[K     |███████████████▊                | 51 kB 21.2 MB/s eta 0:00:01\r\u001b[K     |██████████████████▉             | 61 kB 22.3 MB/s eta 0:00:01\r\u001b[K     |██████████████████████          | 71 kB 23.8 MB/s eta 0:00:01\r\u001b[K     |█████████████████████████▏      | 81 kB 24.8 MB/s eta 0:00:01\r\u001b[K     |████████████████████████████▎   | 92 kB 24.3 MB/s eta 0:00:01\r\u001b[K     |███████████████████████████████▌| 102 kB 25.0 MB/s eta 0:00:01\r\u001b[K     |████████████████████████████████| 104 kB 25.0 MB/s \n",
            "\u001b[?25hRequirement already satisfied: pyyaml in /usr/local/lib/python3.7/dist-packages (from pyswarms) (3.13)\n",
            "Requirement already satisfied: attrs in /usr/local/lib/python3.7/dist-packages (from pyswarms) (21.2.0)\n",
            "Requirement already satisfied: tqdm in /usr/local/lib/python3.7/dist-packages (from pyswarms) (4.62.3)\n",
            "Requirement already satisfied: future in /usr/local/lib/python3.7/dist-packages (from pyswarms) (0.16.0)\n",
            "Requirement already satisfied: matplotlib>=1.3.1 in /usr/local/lib/python3.7/dist-packages (from pyswarms) (3.2.2)\n",
            "Requirement already satisfied: numpy in /usr/local/lib/python3.7/dist-packages (from pyswarms) (1.19.5)\n",
            "Requirement already satisfied: scipy in /usr/local/lib/python3.7/dist-packages (from pyswarms) (1.4.1)\n",
            "Requirement already satisfied: kiwisolver>=1.0.1 in /usr/local/lib/python3.7/dist-packages (from matplotlib>=1.3.1->pyswarms) (1.3.2)\n",
            "Requirement already satisfied: pyparsing!=2.0.4,!=2.1.2,!=2.1.6,>=2.0.1 in /usr/local/lib/python3.7/dist-packages (from matplotlib>=1.3.1->pyswarms) (2.4.7)\n",
            "Requirement already satisfied: cycler>=0.10 in /usr/local/lib/python3.7/dist-packages (from matplotlib>=1.3.1->pyswarms) (0.10.0)\n",
            "Requirement already satisfied: python-dateutil>=2.1 in /usr/local/lib/python3.7/dist-packages (from matplotlib>=1.3.1->pyswarms) (2.8.2)\n",
            "Requirement already satisfied: six in /usr/local/lib/python3.7/dist-packages (from cycler>=0.10->matplotlib>=1.3.1->pyswarms) (1.15.0)\n",
            "Installing collected packages: pyswarms\n",
            "Successfully installed pyswarms-1.3.0\n"
          ]
        }
      ]
    },
    {
      "cell_type": "code",
      "metadata": {
        "id": "IQUX3QimMYS2"
      },
      "source": [
        "# Import modules\n",
        "import numpy as np\n",
        "# Import PySwarms\n",
        "import pyswarms as ps\n",
        "from pyswarms.utils.functions import single_obj as fx"
      ],
      "execution_count": null,
      "outputs": []
    },
    {
      "cell_type": "code",
      "metadata": {
        "colab": {
          "base_uri": "https://localhost:8080/"
        },
        "id": "ngjx0wuJMdTK",
        "outputId": "38f3df9a-aaf3-410a-f2b0-c73f10ab2d24"
      },
      "source": [
        "# Set-up hyperparameters\n",
        "options = {'c1': 0.5, 'c2': 0.3, 'w':0.9}\n",
        "# Call instance of PSO\n",
        "optimizer = ps.single.GlobalBestPSO(n_particles=10, dimensions=2, options=options)\n",
        "# Perform optimization\n",
        "cost, pos = optimizer.optimize(fx.sphere, iters=1000)"
      ],
      "execution_count": null,
      "outputs": [
        {
          "output_type": "stream",
          "name": "stderr",
          "text": [
            "2021-09-30 11:35:29,334 - pyswarms.single.global_best - INFO - Optimize for 1000 iters with {'c1': 0.5, 'c2': 0.3, 'w': 0.9}\n",
            "pyswarms.single.global_best: 100%|██████████|1000/1000, best_cost=9.86e-45\n",
            "2021-09-30 11:35:31,799 - pyswarms.single.global_best - INFO - Optimization finished | best cost: 9.85571746937633e-45, best pos: [-1.25437654e-23  9.84803098e-23]\n"
          ]
        }
      ]
    },
    {
      "cell_type": "code",
      "metadata": {
        "id": "rGRmm_-hNWgn"
      },
      "source": [
        "import matplotlib.pyplot as plt\n",
        "from pyswarms.utils.plotters import plot_contour, plot_surface\n",
        "from pyswarms.utils.plotters.formatters import Designer\n",
        "from pyswarms.utils.plotters.formatters import Mesher"
      ],
      "execution_count": null,
      "outputs": []
    },
    {
      "cell_type": "code",
      "metadata": {
        "id": "gbST_hXxNWZe"
      },
      "source": [
        "# for better plotting\n",
        "m = Mesher(func=fx.sphere)"
      ],
      "execution_count": null,
      "outputs": []
    },
    {
      "cell_type": "code",
      "metadata": {
        "id": "1kzIacbmNWXF"
      },
      "source": [
        "# Make animation\n",
        "animation = plot_contour(pos_history=optimizer.pos_history,\n",
        "                         mesher=m,\n",
        "                         mark=(0,0))"
      ],
      "execution_count": null,
      "outputs": []
    },
    {
      "cell_type": "code",
      "metadata": {
        "colab": {
          "base_uri": "https://localhost:8080/"
        },
        "id": "jyn7iNsIPNKV",
        "outputId": "8070f51b-6559-46d6-824c-afd91f036a3b"
      },
      "source": [
        "animation.save('mymovie.mp4')"
      ],
      "execution_count": null,
      "outputs": [
        {
          "output_type": "stream",
          "name": "stderr",
          "text": [
            "2021-09-30 10:41:14,661 - matplotlib.animation - INFO - Animation.save using <class 'matplotlib.animation.FFMpegWriter'>\n",
            "2021-09-30 10:41:14,664 - matplotlib.animation - INFO - MovieWriter._run: running command: ffmpeg -f rawvideo -vcodec rawvideo -s 720x576 -pix_fmt rgba -r 12.5 -loglevel error -i pipe: -vcodec h264 -pix_fmt yuv420p -y mymovie.mp4\n"
          ]
        }
      ]
    },
    {
      "cell_type": "code",
      "metadata": {
        "id": "zL2mY2s5RHWT"
      },
      "source": [
        "# preprocessing\n",
        "pos_history_3d = m.compute_history_3d(optimizer.pos_history)\n",
        "# adjust the figure\n",
        "d = Designer(limits=[(-1,1), (-1,1), (-0.1,1)], label=['x-axis', 'y-axis', 'z-axis'])\n",
        "# Make animation\n",
        "animation3d = plot_surface(pos_history=pos_history_3d, # Use the cost_history we computed\n",
        "                           mesher=m, designer=d,       # Customizations\n",
        "                           mark=(0,0,0))               # Mark minima"
      ],
      "execution_count": null,
      "outputs": []
    },
    {
      "cell_type": "code",
      "metadata": {
        "colab": {
          "base_uri": "https://localhost:8080/"
        },
        "id": "2t3eTZyORHT4",
        "outputId": "fcb14d6e-b4cf-4d90-c5d6-5bbba6221384"
      },
      "source": [
        "animation3d.save('sphere.mp4')"
      ],
      "execution_count": null,
      "outputs": [
        {
          "output_type": "stream",
          "name": "stderr",
          "text": [
            "2021-09-30 10:41:30,821 - matplotlib.animation - INFO - Animation.save using <class 'matplotlib.animation.FFMpegWriter'>\n",
            "2021-09-30 10:41:30,825 - matplotlib.animation - INFO - MovieWriter._run: running command: ffmpeg -f rawvideo -vcodec rawvideo -s 720x576 -pix_fmt rgba -r 12.5 -loglevel error -i pipe: -vcodec h264 -pix_fmt yuv420p -y sphere.mp4\n"
          ]
        }
      ]
    },
    {
      "cell_type": "code",
      "metadata": {
        "id": "PeaSnya7RdIr"
      },
      "source": [],
      "execution_count": null,
      "outputs": []
    }
  ]
}